{
 "cells": [
  {
   "cell_type": "markdown",
   "id": "ec9a225f",
   "metadata": {},
   "source": [
    "## MNIST recognition model"
   ]
  },
  {
   "cell_type": "code",
   "execution_count": 75,
   "id": "1cffbe97",
   "metadata": {},
   "outputs": [],
   "source": [
    "import torch\n",
    "import torch.nn as nn\n",
    "import torch.nn.functional as f\n",
    "import torch.optim as optim\n",
    "from torch.utils.data import DataLoader\n",
    "import numpy as np\n",
    "from torchvision import datasets\n",
    "import torchvision.transforms.v2 as tfs\n",
    "import matplotlib.pyplot as plt"
   ]
  },
  {
   "cell_type": "code",
   "execution_count": 76,
   "id": "041e7008",
   "metadata": {},
   "outputs": [
    {
     "name": "stderr",
     "output_type": "stream",
     "text": [
      "c:\\Projects\\scribble-recognition\\.venv\\lib\\site-packages\\torchvision\\transforms\\v2\\_deprecated.py:42: UserWarning: The transform `ToTensor()` is deprecated and will be removed in a future release. Instead, please use `v2.Compose([v2.ToImage(), v2.ToDtype(torch.float32, scale=True)])`.Output is equivalent up to float precision.\n",
      "  warnings.warn(\n"
     ]
    }
   ],
   "source": [
    "to_tensor_tf = tfs.Compose([tfs.ToImage(), tfs.ToDtype(torch.float32, scale=True)])\n",
    "train_data = datasets.MNIST(\n",
    "    root=\"data\",\n",
    "    train=True,\n",
    "    download=True,\n",
    "    transform=tfs.ToTensor()\n",
    ")\n",
    "\n",
    "test_data = datasets.MNIST(\n",
    "    root=\"data\",\n",
    "    train=False,\n",
    "    download=True,\n",
    "    transform=tfs.ToTensor()\n",
    ")\n"
   ]
  },
  {
   "cell_type": "code",
   "execution_count": 77,
   "id": "f8515688",
   "metadata": {},
   "outputs": [
    {
     "name": "stdout",
     "output_type": "stream",
     "text": [
      "7\n"
     ]
    },
    {
     "data": {
      "text/plain": [
       "<matplotlib.image.AxesImage at 0x243554ebd00>"
      ]
     },
     "execution_count": 77,
     "metadata": {},
     "output_type": "execute_result"
    },
    {
     "data": {
      "image/png": "[encoded data removed]",
      "text/plain": [
       "<Figure size 640x480 with 1 Axes>"
      ]
     },
     "metadata": {},
     "output_type": "display_data"
    }
   ],
   "source": [
    "img, label = train_data[101]\n",
    "print(label)\n",
    "plt.imshow(img.squeeze(), cmap=\"gray\")"
   ]
  },
  {
   "cell_type": "code",
   "execution_count": 78,
   "id": "514345ac",
   "metadata": {},
   "outputs": [],
   "source": [
    "BATCH_SIZE = 16\n",
    "\n",
    "train_loader = DataLoader(train_data, batch_size=BATCH_SIZE, shuffle=True)\n",
    "test_loader = DataLoader(test_data, batch_size=BATCH_SIZE, shuffle=True)"
   ]
  },
  {
   "cell_type": "code",
   "execution_count": 79,
   "id": "ce6900ef",
   "metadata": {},
   "outputs": [],
   "source": [
    "class ConvNet(nn.Module):\n",
    "    def __init__(self):\n",
    "        super().__init__()\n",
    "        self.conv1 = nn.Conv2d(in_channels=1, out_channels=16, kernel_size=5, stride=1) # (1, 28, 28) -> (16, 24, 24)\n",
    "        self.pool = nn.MaxPool2d(kernel_size=2, stride=2) # (16, 24, 24) -> (16, 12, 12)\n",
    "        self.conv2 = nn.Conv2d(in_channels=16, out_channels=32, kernel_size=3, stride=1) # (16, 12, 12) -> (32, 10, 10)\n",
    "        # pool2 (32, 10, 10) -> (32, 5, 5)\n",
    "        self.fc1 = nn.Linear(32 * 5 * 5, 130) # (800, 130)\n",
    "        self.fc2 = nn.Linear(130, 10)\n",
    "    \n",
    "    def forward(self, x):\n",
    "        x = self.pool(f.relu(self.conv1(x))) # (1, 28, 28) -> (16, 24, 24) -> (16, 12, 12)\n",
    "        x = self.pool(f.relu(self.conv2(x))) # (16, 12, 12) -> (32, 10, 10) -> (32, 5, 5)\n",
    "        x = x.flatten(1) # (32, 5, 5) -> (32, 25)\n",
    "        x = f.relu(self.fc1(x))\n",
    "        x = self.fc2(x)\n",
    "        return x\n"
   ]
  },
  {
   "cell_type": "code",
   "execution_count": 80,
   "id": "ac92c8d8",
   "metadata": {},
   "outputs": [],
   "source": [
    "LEARNING_RATE = 0.01\n",
    "MOMENTUM = 0.9\n",
    "N_EPOCHS = 2\n",
    "net = ConvNet()\n",
    "loss_function = nn.CrossEntropyLoss()\n",
    "optimizer = optim.SGD(net.parameters(), lr=LEARNING_RATE, momentum=MOMENTUM)"
   ]
  },
  {
   "cell_type": "code",
   "execution_count": 81,
   "id": "515b2091",
   "metadata": {},
   "outputs": [],
   "source": [
    "def train_model():\n",
    "    for epoch in range(N_EPOCHS):\n",
    "        epoch_loss = 0.0\n",
    "        for i, data in enumerate(train_loader):\n",
    "            inputs, labels = data\n",
    "            optimizer.zero_grad()\n",
    "            outputs = net(inputs)\n",
    "            loss = loss_function(outputs, labels)\n",
    "            loss.backward()\n",
    "            optimizer.step()\n",
    "            epoch_loss += loss.item()\n",
    "\n",
    "        print(f\"epoch: {epoch + 1}, loss: {epoch_loss / len(train_loader)}\")\n"
   ]
  },
  {
   "cell_type": "code",
   "execution_count": 82,
   "id": "5c3df1ca",
   "metadata": {},
   "outputs": [
    {
     "name": "stdout",
     "output_type": "stream",
     "text": [
      "epoch: 1, loss: 0.16123930739026013\n",
      "epoch: 2, loss: 0.04731061641247361\n"
     ]
    }
   ],
   "source": [
    "net.train()\n",
    "train_model()"
   ]
  },
  {
   "cell_type": "code",
   "execution_count": 83,
   "id": "7614d849",
   "metadata": {},
   "outputs": [],
   "source": [
    "MODELS_PATH = \"models\"\n",
    "torch.save(net.state_dict(), f\"{MODELS_PATH}/cnn.pt\")"
   ]
  },
  {
   "cell_type": "code",
   "execution_count": 84,
   "id": "6ea1e59e",
   "metadata": {},
   "outputs": [
    {
     "name": "stdout",
     "output_type": "stream",
     "text": [
      "Accuracy: 98.61\n"
     ]
    }
   ],
   "source": [
    "model = ConvNet()\n",
    "model.load_state_dict(torch.load(f\"{MODELS_PATH}/cnn.pt\", weights_only=True))\n",
    "\n",
    "model.eval()\n",
    "total = 0\n",
    "correct = 0\n",
    "with torch.no_grad():\n",
    "    for data in test_loader:\n",
    "        inputs, true = data\n",
    "        outputs = model(inputs)\n",
    "        _, pred = torch.max(outputs, dim=1)\n",
    "        correct += (pred == true).sum().item()\n",
    "        total += len(true)\n",
    "print(f\"Accuracy: {(correct / total * 100):.2f}\") # 98.74 (120, 10) linear2"
   ]
  },
  {
   "cell_type": "code",
   "execution_count": null,
   "id": "0423245d",
   "metadata": {},
   "outputs": [],
   "source": [
    "def predict(data):\n",
    "    model = ConvNet()\n",
    "    model.eval()\n",
    "    output = model(data)\n",
    "    _, prediction = torch.max(output, dim=1)\n",
    "    return prediction"
   ]
  }
 ],
 "metadata": {
  "kernelspec": {
   "display_name": ".venv",
   "language": "python",
   "name": "python3"
  },
  "language_info": {
   "codemirror_mode": {
    "name": "ipython",
    "version": 3
   },
   "file_extension": ".py",
   "mimetype": "text/x-python",
   "name": "python",
   "nbconvert_exporter": "python",
   "pygments_lexer": "ipython3",
   "version": "3.10.1"
  }
 },
 "nbformat": 4,
 "nbformat_minor": 5
}
